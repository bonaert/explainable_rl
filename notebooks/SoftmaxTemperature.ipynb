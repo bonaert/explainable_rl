{
 "cells": [
  {
   "cell_type": "code",
   "execution_count": 12,
   "metadata": {},
   "outputs": [],
   "source": [
    "%matplotlib widget"
   ]
  },
  {
   "cell_type": "code",
   "execution_count": 32,
   "metadata": {},
   "outputs": [
    {
     "data": {
      "application/vnd.jupyter.widget-view+json": {
       "model_id": "ad8644a6e3d640aba2bde1c295fe9336",
       "version_major": 2,
       "version_minor": 0
      },
      "text/plain": [
       "VBox(children=(Canvas(toolbar=Toolbar(toolitems=[('Home', 'Reset original view', 'home', 'home'), ('Back', 'Ba…"
      ]
     },
     "metadata": {},
     "output_type": "display_data"
    }
   ],
   "source": [
    "# One can bound figure attributes to other widget values.\n",
    "import matplotlib.pyplot as plt\n",
    "from ipywidgets import VBox, HBox, FloatSlider, FloatLogSlider\n",
    "import numpy as np\n",
    "\n",
    "def softmax(values: np.ndarray, temperature: float):\n",
    "    vals = np.exp(values / temperature)\n",
    "    return vals / np.sum(vals)\n",
    "\n",
    "x = np.array([1,2,8,4, 3])\n",
    "softmax(x, temperature=2)\n",
    "\n",
    "slider = FloatSlider(\n",
    "    orientation='Horizontal',\n",
    "    value=1.0,\n",
    "    min=0.1,\n",
    "    max=10,\n",
    "    continuous_update=False\n",
    ")\n",
    "\n",
    "plt.ioff()\n",
    "plt.clf()\n",
    "bars = plt.plot(np.arange(len(x)), softmax(x, temperature=0.2))\n",
    "\n",
    "def update_bars(temperature):\n",
    "    print(temperature.new)\n",
    "    bars[0].set_data(np.arange(len(x)), softmax(x, temperature=temperature.new))\n",
    "    fig.canvas.draw()\n",
    "    fig.canvas.flush_events()\n",
    "\n",
    "slider.observe(update_bars, names='value')\n",
    "fig.canvas.toolbar_visible = False\n",
    "\n",
    "VBox([fig.canvas, slider])"
   ]
  },
  {
   "cell_type": "code",
   "execution_count": null,
   "metadata": {},
   "outputs": [],
   "source": []
  }
 ],
 "metadata": {
  "kernelspec": {
   "display_name": "Python 3",
   "language": "python",
   "name": "python3"
  },
  "language_info": {
   "codemirror_mode": {
    "name": "ipython",
    "version": 3
   },
   "file_extension": ".py",
   "mimetype": "text/x-python",
   "name": "python",
   "nbconvert_exporter": "python",
   "pygments_lexer": "ipython3",
   "version": "3.7.5"
  }
 },
 "nbformat": 4,
 "nbformat_minor": 4
}
